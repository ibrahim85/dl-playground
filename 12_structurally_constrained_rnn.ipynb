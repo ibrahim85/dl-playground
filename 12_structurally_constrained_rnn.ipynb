{
 "cells": [
  {
   "cell_type": "markdown",
   "metadata": {},
   "source": [
    "## Reimplementation Structurally constrained recurrent nets (SCRN) by Keras\n",
    "\n",
    "This model is proposed by Tomas Mikolov, Armand Joulin, Sumit Chopra, Michael Mathieu, and Marc'Aurelio Ranzato. [Learning Longer Memory in Recurrent Neural Networks](http://arxiv.org/abs/1412.7753)."
   ]
  },
  {
   "cell_type": "code",
   "execution_count": 1,
   "metadata": {},
   "outputs": [
    {
     "name": "stderr",
     "output_type": "stream",
     "text": [
      "Using TensorFlow backend.\n"
     ]
    }
   ],
   "source": [
    "import numpy as np\n",
    "np.random.seed(13)\n",
    "\n",
    "from keras import backend as K\n",
    "from keras.models import Model\n",
    "from keras.layers import Dense, Embedding, LSTM, SimpleRNN, Lambda, Input, Recurrent, TimeDistributed, Activation\n",
    "from keras.layers.merge import Add\n",
    "from keras.engine import InputSpec\n",
    "from keras.utils import np_utils\n",
    "from keras.utils.data_utils import get_file\n",
    "from keras.preprocessing import sequence\n",
    "from keras.preprocessing.text import Tokenizer\n",
    "from keras.callbacks import Callback\n",
    "from keras.utils.vis_utils import plot_model, model_to_dot\n",
    "from keras.legacy import interfaces\n",
    "\n",
    "from IPython.display import SVG\n",
    "from matplotlib import pyplot as plt\n",
    "%matplotlib inline"
   ]
  },
  {
   "cell_type": "code",
   "execution_count": 2,
   "metadata": {
    "collapsed": true
   },
   "outputs": [],
   "source": [
    "def sample(p):\n",
    "    p[0] = 0.\n",
    "    p /= sum(p)\n",
    "    return np.argmax(np.random.multinomial(1, p, 1))"
   ]
  },
  {
   "cell_type": "code",
   "execution_count": 3,
   "metadata": {
    "collapsed": true
   },
   "outputs": [],
   "source": [
    "class ContextRNN(Recurrent):\n",
    "\n",
    "    @interfaces.legacy_recurrent_support\n",
    "    def __init__(self, units, alpha=0.95, **kwargs):\n",
    "        if alpha < 0. or alpha > 1.:\n",
    "            raise ValueError('you must set  `0. <= alpha <= 1.`.')\n",
    "        super(ContextRNN, self).__init__(**kwargs)        \n",
    "        self.units = units\n",
    "        self.alpha = K.variable(alpha)            \n",
    "\n",
    "    def build(self, input_shape):\n",
    "        if isinstance(input_shape, list):\n",
    "            input_shape = input_shape[0]\n",
    "\n",
    "        batch_size = input_shape[0] if self.stateful else None\n",
    "\n",
    "        self.input_dim = input_shape[2]\n",
    "        self.input_spec[0] = InputSpec(shape=(batch_size, None, self.input_dim))\n",
    "        \n",
    "        self.states = [None]\n",
    "        if self.stateful:\n",
    "            self.reset_states()\n",
    "        \n",
    "        self.built = True\n",
    "\n",
    "    def step(self, inputs, states):\n",
    "        prev_output = states[0]\n",
    "        output = (1.-self.alpha)*inputs + (self.alpha)*prev_output\n",
    "        return output, [output]\n",
    "\n",
    "    def get_config(self):\n",
    "        config = {'units': self.units,\n",
    "                  'alpha': self.alpha}\n",
    "\n",
    "        base_config = super(ContextRNN, self).get_config()\n",
    "        return dict(list(base_config.items()) + list(config.items()))"
   ]
  },
  {
   "cell_type": "code",
   "execution_count": 4,
   "metadata": {
    "collapsed": true
   },
   "outputs": [],
   "source": [
    "path = get_file('alice.txt', origin='http://www.gutenberg.org/cache/epub/11/pg11.txt')\n",
    "doc = open(path).readlines()\n",
    "doc = ['<bos> {} <eos>'.format(sentence) for sentence in doc if sentence.count(' ') > 2]\n",
    "\n",
    "tokenizer = Tokenizer()\n",
    "tokenizer.fit_on_texts(doc)\n",
    "doc = tokenizer.texts_to_sequences(doc)\n",
    "V = len(tokenizer.word_index)+1\n",
    "index2word = {v: k for k, v in tokenizer.word_index.items()}"
   ]
  },
  {
   "cell_type": "code",
   "execution_count": 5,
   "metadata": {},
   "outputs": [
    {
     "name": "stdout",
     "output_type": "stream",
     "text": [
      "(33144, 19) (33144, 3380)\n"
     ]
    }
   ],
   "source": [
    "data = []\n",
    "targets = []\n",
    "for sentence in doc:\n",
    "    for i in range(1, len(sentence)):\n",
    "        start = 0\n",
    "        data.append(sentence[start:i])\n",
    "        targets.append(sentence[i])\n",
    "\n",
    "ys = np_utils.to_categorical(targets, V)\n",
    "maxlen = max(map(len, data))\n",
    "xs = sequence.pad_sequences(data, maxlen=maxlen)\n",
    "print(xs.shape, ys.shape)"
   ]
  },
  {
   "cell_type": "code",
   "execution_count": 6,
   "metadata": {
    "collapsed": true
   },
   "outputs": [],
   "source": [
    "def get_RNN_last(x):\n",
    "    return x[:, -1, :]\n",
    "\n",
    "def get_RNN_last_shape(input_shape):\n",
    "    assert len(input_shape) == 3\n",
    "    return (None, input_shape[-1])"
   ]
  },
  {
   "cell_type": "code",
   "execution_count": 7,
   "metadata": {
    "collapsed": true
   },
   "outputs": [],
   "source": [
    "num_hidden = 100\n",
    "num_context = 40\n",
    "m = 100\n",
    "w = Input(shape=(maxlen,), dtype='int32', name='x')\n",
    "\n",
    "#slow\n",
    "b = Embedding(output_dim=num_context, input_dim=V, input_length=maxlen, name='Bx')(w)\n",
    "s = ContextRNN(units=num_context, return_sequences=True, name='s')(b)\n",
    "ps = TimeDistributed(Dense(m), name='Ps')(s)\n",
    "\n",
    "s = Lambda(lambda x: get_RNN_last(x), output_shape=get_RNN_last_shape, name='s_T')(s)\n",
    "v = Dense(V, name='Vs')(s)\n",
    "\n",
    "# fast\n",
    "x = Embedding(output_dim=m, input_dim=V, input_length=maxlen, name='Ax')(w)\n",
    "x = Add()([x, ps])\n",
    "\n",
    "x = SimpleRNN(num_hidden, activation='sigmoid', return_sequences=False, name='h')(x)\n",
    "x = Dense(V)(x)\n",
    "x = Add()([x,v])\n",
    "y = Activation(\"softmax\", name='y')(x)\n",
    "\n",
    "model = Model(inputs=w, outputs=y)"
   ]
  },
  {
   "cell_type": "code",
   "execution_count": 8,
   "metadata": {},
   "outputs": [
    {
     "data": {
      "image/svg+xml": [
       "<svg height=\"728pt\" viewBox=\"0.00 0.00 697.00 728.00\" width=\"697pt\" xmlns=\"http://www.w3.org/2000/svg\" xmlns:xlink=\"http://www.w3.org/1999/xlink\">\n",
       "<g class=\"graph\" id=\"graph0\" transform=\"scale(1 1) rotate(0) translate(4 724)\">\n",
       "<title>G</title>\n",
       "<polygon fill=\"white\" points=\"-4,4 -4,-724 693,-724 693,4 -4,4\" stroke=\"none\"/>\n",
       "<!-- 140646254312696 -->\n",
       "<g class=\"node\" id=\"node1\"><title>140646254312696</title>\n",
       "<polygon fill=\"none\" points=\"309,-673 309,-719 531,-719 531,-673 309,-673\" stroke=\"black\"/>\n",
       "<text font-family=\"Times,serif\" font-size=\"14.00\" text-anchor=\"middle\" x=\"354.5\" y=\"-692.3\">x: InputLayer</text>\n",
       "<polyline fill=\"none\" points=\"400,-673 400,-719 \" stroke=\"black\"/>\n",
       "<text font-family=\"Times,serif\" font-size=\"14.00\" text-anchor=\"middle\" x=\"427.5\" y=\"-703.8\">input:</text>\n",
       "<polyline fill=\"none\" points=\"400,-696 455,-696 \" stroke=\"black\"/>\n",
       "<text font-family=\"Times,serif\" font-size=\"14.00\" text-anchor=\"middle\" x=\"427.5\" y=\"-680.8\">output:</text>\n",
       "<polyline fill=\"none\" points=\"455,-673 455,-719 \" stroke=\"black\"/>\n",
       "<text font-family=\"Times,serif\" font-size=\"14.00\" text-anchor=\"middle\" x=\"493\" y=\"-703.8\">(None, 19)</text>\n",
       "<polyline fill=\"none\" points=\"455,-696 531,-696 \" stroke=\"black\"/>\n",
       "<text font-family=\"Times,serif\" font-size=\"14.00\" text-anchor=\"middle\" x=\"493\" y=\"-680.8\">(None, 19)</text>\n",
       "</g>\n",
       "<!-- 140646254312864 -->\n",
       "<g class=\"node\" id=\"node2\"><title>140646254312864</title>\n",
       "<polygon fill=\"none\" points=\"184.5,-589 184.5,-635 439.5,-635 439.5,-589 184.5,-589\" stroke=\"black\"/>\n",
       "<text font-family=\"Times,serif\" font-size=\"14.00\" text-anchor=\"middle\" x=\"236\" y=\"-608.3\">Bx: Embedding</text>\n",
       "<polyline fill=\"none\" points=\"287.5,-589 287.5,-635 \" stroke=\"black\"/>\n",
       "<text font-family=\"Times,serif\" font-size=\"14.00\" text-anchor=\"middle\" x=\"315\" y=\"-619.8\">input:</text>\n",
       "<polyline fill=\"none\" points=\"287.5,-612 342.5,-612 \" stroke=\"black\"/>\n",
       "<text font-family=\"Times,serif\" font-size=\"14.00\" text-anchor=\"middle\" x=\"315\" y=\"-596.8\">output:</text>\n",
       "<polyline fill=\"none\" points=\"342.5,-589 342.5,-635 \" stroke=\"black\"/>\n",
       "<text font-family=\"Times,serif\" font-size=\"14.00\" text-anchor=\"middle\" x=\"391\" y=\"-619.8\">(None, 19)</text>\n",
       "<polyline fill=\"none\" points=\"342.5,-612 439.5,-612 \" stroke=\"black\"/>\n",
       "<text font-family=\"Times,serif\" font-size=\"14.00\" text-anchor=\"middle\" x=\"391\" y=\"-596.8\">(None, 19, 40)</text>\n",
       "</g>\n",
       "<!-- 140646254312696&#45;&gt;140646254312864 -->\n",
       "<g class=\"edge\" id=\"edge1\"><title>140646254312696-&gt;140646254312864</title>\n",
       "<path d=\"M390.774,-672.81C378.047,-663.147 362.977,-651.705 349.443,-641.429\" fill=\"none\" stroke=\"black\"/>\n",
       "<polygon fill=\"black\" points=\"351.331,-638.468 341.25,-635.208 347.098,-644.043 351.331,-638.468\" stroke=\"black\"/>\n",
       "</g>\n",
       "<!-- 140645357053936 -->\n",
       "<g class=\"node\" id=\"node4\"><title>140645357053936</title>\n",
       "<polygon fill=\"none\" points=\"426.5,-505 426.5,-551 689.5,-551 689.5,-505 426.5,-505\" stroke=\"black\"/>\n",
       "<text font-family=\"Times,serif\" font-size=\"14.00\" text-anchor=\"middle\" x=\"478.5\" y=\"-524.3\">Ax: Embedding</text>\n",
       "<polyline fill=\"none\" points=\"530.5,-505 530.5,-551 \" stroke=\"black\"/>\n",
       "<text font-family=\"Times,serif\" font-size=\"14.00\" text-anchor=\"middle\" x=\"558\" y=\"-535.8\">input:</text>\n",
       "<polyline fill=\"none\" points=\"530.5,-528 585.5,-528 \" stroke=\"black\"/>\n",
       "<text font-family=\"Times,serif\" font-size=\"14.00\" text-anchor=\"middle\" x=\"558\" y=\"-512.8\">output:</text>\n",
       "<polyline fill=\"none\" points=\"585.5,-505 585.5,-551 \" stroke=\"black\"/>\n",
       "<text font-family=\"Times,serif\" font-size=\"14.00\" text-anchor=\"middle\" x=\"637.5\" y=\"-535.8\">(None, 19)</text>\n",
       "<polyline fill=\"none\" points=\"585.5,-528 689.5,-528 \" stroke=\"black\"/>\n",
       "<text font-family=\"Times,serif\" font-size=\"14.00\" text-anchor=\"middle\" x=\"637.5\" y=\"-512.8\">(None, 19, 100)</text>\n",
       "</g>\n",
       "<!-- 140646254312696&#45;&gt;140645357053936 -->\n",
       "<g class=\"edge\" id=\"edge3\"><title>140646254312696-&gt;140645357053936</title>\n",
       "<path d=\"M438.325,-672.956C462.658,-643.687 505.728,-591.878 533.021,-559.047\" fill=\"none\" stroke=\"black\"/>\n",
       "<polygon fill=\"black\" points=\"535.898,-561.062 539.599,-551.135 530.515,-556.587 535.898,-561.062\" stroke=\"black\"/>\n",
       "</g>\n",
       "<!-- 140646254313368 -->\n",
       "<g class=\"node\" id=\"node3\"><title>140646254313368</title>\n",
       "<polygon fill=\"none\" points=\"155.5,-505 155.5,-551 408.5,-551 408.5,-505 155.5,-505\" stroke=\"black\"/>\n",
       "<text font-family=\"Times,serif\" font-size=\"14.00\" text-anchor=\"middle\" x=\"206\" y=\"-524.3\">s: ContextRNN</text>\n",
       "<polyline fill=\"none\" points=\"256.5,-505 256.5,-551 \" stroke=\"black\"/>\n",
       "<text font-family=\"Times,serif\" font-size=\"14.00\" text-anchor=\"middle\" x=\"284\" y=\"-535.8\">input:</text>\n",
       "<polyline fill=\"none\" points=\"256.5,-528 311.5,-528 \" stroke=\"black\"/>\n",
       "<text font-family=\"Times,serif\" font-size=\"14.00\" text-anchor=\"middle\" x=\"284\" y=\"-512.8\">output:</text>\n",
       "<polyline fill=\"none\" points=\"311.5,-505 311.5,-551 \" stroke=\"black\"/>\n",
       "<text font-family=\"Times,serif\" font-size=\"14.00\" text-anchor=\"middle\" x=\"360\" y=\"-535.8\">(None, 19, 40)</text>\n",
       "<polyline fill=\"none\" points=\"311.5,-528 408.5,-528 \" stroke=\"black\"/>\n",
       "<text font-family=\"Times,serif\" font-size=\"14.00\" text-anchor=\"middle\" x=\"360\" y=\"-512.8\">(None, 19, 40)</text>\n",
       "</g>\n",
       "<!-- 140646254312864&#45;&gt;140646254313368 -->\n",
       "<g class=\"edge\" id=\"edge2\"><title>140646254312864-&gt;140646254313368</title>\n",
       "<path d=\"M303.802,-588.593C300.635,-579.935 296.954,-569.874 293.529,-560.512\" fill=\"none\" stroke=\"black\"/>\n",
       "<polygon fill=\"black\" points=\"296.807,-559.285 290.084,-551.096 290.233,-561.69 296.807,-559.285\" stroke=\"black\"/>\n",
       "</g>\n",
       "<!-- 140645357053768 -->\n",
       "<g class=\"node\" id=\"node5\"><title>140645357053768</title>\n",
       "<polygon fill=\"none\" points=\"148,-421 148,-467 530,-467 530,-421 148,-421\" stroke=\"black\"/>\n",
       "<text font-family=\"Times,serif\" font-size=\"14.00\" text-anchor=\"middle\" x=\"259.5\" y=\"-440.3\">Ps(dense_1): TimeDistributed(Dense)</text>\n",
       "<polyline fill=\"none\" points=\"371,-421 371,-467 \" stroke=\"black\"/>\n",
       "<text font-family=\"Times,serif\" font-size=\"14.00\" text-anchor=\"middle\" x=\"398.5\" y=\"-451.8\">input:</text>\n",
       "<polyline fill=\"none\" points=\"371,-444 426,-444 \" stroke=\"black\"/>\n",
       "<text font-family=\"Times,serif\" font-size=\"14.00\" text-anchor=\"middle\" x=\"398.5\" y=\"-428.8\">output:</text>\n",
       "<polyline fill=\"none\" points=\"426,-421 426,-467 \" stroke=\"black\"/>\n",
       "<text font-family=\"Times,serif\" font-size=\"14.00\" text-anchor=\"middle\" x=\"478\" y=\"-451.8\">(None, 19, 40)</text>\n",
       "<polyline fill=\"none\" points=\"426,-444 530,-444 \" stroke=\"black\"/>\n",
       "<text font-family=\"Times,serif\" font-size=\"14.00\" text-anchor=\"middle\" x=\"478\" y=\"-428.8\">(None, 19, 100)</text>\n",
       "</g>\n",
       "<!-- 140646254313368&#45;&gt;140645357053768 -->\n",
       "<g class=\"edge\" id=\"edge4\"><title>140646254313368-&gt;140645357053768</title>\n",
       "<path d=\"M297.576,-504.593C303.847,-495.571 311.178,-485.025 317.915,-475.333\" fill=\"none\" stroke=\"black\"/>\n",
       "<polygon fill=\"black\" points=\"320.807,-477.305 323.641,-467.096 315.059,-473.309 320.807,-477.305\" stroke=\"black\"/>\n",
       "</g>\n",
       "<!-- 140646254241216 -->\n",
       "<g class=\"node\" id=\"node8\"><title>140646254241216</title>\n",
       "<polygon fill=\"none\" points=\"-0.5,-337 -0.5,-383 240.5,-383 240.5,-337 -0.5,-337\" stroke=\"black\"/>\n",
       "<text font-family=\"Times,serif\" font-size=\"14.00\" text-anchor=\"middle\" x=\"44\" y=\"-356.3\">s_T: Lambda</text>\n",
       "<polyline fill=\"none\" points=\"88.5,-337 88.5,-383 \" stroke=\"black\"/>\n",
       "<text font-family=\"Times,serif\" font-size=\"14.00\" text-anchor=\"middle\" x=\"116\" y=\"-367.8\">input:</text>\n",
       "<polyline fill=\"none\" points=\"88.5,-360 143.5,-360 \" stroke=\"black\"/>\n",
       "<text font-family=\"Times,serif\" font-size=\"14.00\" text-anchor=\"middle\" x=\"116\" y=\"-344.8\">output:</text>\n",
       "<polyline fill=\"none\" points=\"143.5,-337 143.5,-383 \" stroke=\"black\"/>\n",
       "<text font-family=\"Times,serif\" font-size=\"14.00\" text-anchor=\"middle\" x=\"192\" y=\"-367.8\">(None, 19, 40)</text>\n",
       "<polyline fill=\"none\" points=\"143.5,-360 240.5,-360 \" stroke=\"black\"/>\n",
       "<text font-family=\"Times,serif\" font-size=\"14.00\" text-anchor=\"middle\" x=\"192\" y=\"-344.8\">(None, 40)</text>\n",
       "</g>\n",
       "<!-- 140646254313368&#45;&gt;140646254241216 -->\n",
       "<g class=\"edge\" id=\"edge8\"><title>140646254313368-&gt;140646254241216</title>\n",
       "<path d=\"M190.154,-504.929C170.775,-496.324 152.217,-484.425 139,-468 122.178,-447.096 118.183,-416.395 117.954,-393.234\" fill=\"none\" stroke=\"black\"/>\n",
       "<polygon fill=\"black\" points=\"121.455,-393.229 118.082,-383.185 114.455,-393.14 121.455,-393.229\" stroke=\"black\"/>\n",
       "</g>\n",
       "<!-- 140645356841728 -->\n",
       "<g class=\"node\" id=\"node6\"><title>140645356841728</title>\n",
       "<polygon fill=\"none\" points=\"259,-337 259,-383 601,-383 601,-337 259,-337\" stroke=\"black\"/>\n",
       "<text font-family=\"Times,serif\" font-size=\"14.00\" text-anchor=\"middle\" x=\"299\" y=\"-356.3\">add_1: Add</text>\n",
       "<polyline fill=\"none\" points=\"339,-337 339,-383 \" stroke=\"black\"/>\n",
       "<text font-family=\"Times,serif\" font-size=\"14.00\" text-anchor=\"middle\" x=\"366.5\" y=\"-367.8\">input:</text>\n",
       "<polyline fill=\"none\" points=\"339,-360 394,-360 \" stroke=\"black\"/>\n",
       "<text font-family=\"Times,serif\" font-size=\"14.00\" text-anchor=\"middle\" x=\"366.5\" y=\"-344.8\">output:</text>\n",
       "<polyline fill=\"none\" points=\"394,-337 394,-383 \" stroke=\"black\"/>\n",
       "<text font-family=\"Times,serif\" font-size=\"14.00\" text-anchor=\"middle\" x=\"497.5\" y=\"-367.8\">[(None, 19, 100), (None, 19, 100)]</text>\n",
       "<polyline fill=\"none\" points=\"394,-360 601,-360 \" stroke=\"black\"/>\n",
       "<text font-family=\"Times,serif\" font-size=\"14.00\" text-anchor=\"middle\" x=\"497.5\" y=\"-344.8\">(None, 19, 100)</text>\n",
       "</g>\n",
       "<!-- 140645357053936&#45;&gt;140645356841728 -->\n",
       "<g class=\"edge\" id=\"edge5\"><title>140645357053936-&gt;140645356841728</title>\n",
       "<path d=\"M559.425,-504.769C559.78,-481.497 556.999,-444.936 539,-420 529.457,-406.779 516.014,-396.216 501.816,-387.895\" fill=\"none\" stroke=\"black\"/>\n",
       "<polygon fill=\"black\" points=\"503.355,-384.748 492.906,-383 499.985,-390.883 503.355,-384.748\" stroke=\"black\"/>\n",
       "</g>\n",
       "<!-- 140645357053768&#45;&gt;140645356841728 -->\n",
       "<g class=\"edge\" id=\"edge6\"><title>140645357053768-&gt;140645356841728</title>\n",
       "<path d=\"M363.866,-420.593C374.384,-411.115 386.769,-399.955 397.96,-389.871\" fill=\"none\" stroke=\"black\"/>\n",
       "<polygon fill=\"black\" points=\"400.393,-392.39 405.479,-383.096 395.707,-387.19 400.393,-392.39\" stroke=\"black\"/>\n",
       "</g>\n",
       "<!-- 140645356743816 -->\n",
       "<g class=\"node\" id=\"node7\"><title>140645356743816</title>\n",
       "<polygon fill=\"none\" points=\"287.5,-253 287.5,-299 544.5,-299 544.5,-253 287.5,-253\" stroke=\"black\"/>\n",
       "<text font-family=\"Times,serif\" font-size=\"14.00\" text-anchor=\"middle\" x=\"336.5\" y=\"-272.3\">h: SimpleRNN</text>\n",
       "<polyline fill=\"none\" points=\"385.5,-253 385.5,-299 \" stroke=\"black\"/>\n",
       "<text font-family=\"Times,serif\" font-size=\"14.00\" text-anchor=\"middle\" x=\"413\" y=\"-283.8\">input:</text>\n",
       "<polyline fill=\"none\" points=\"385.5,-276 440.5,-276 \" stroke=\"black\"/>\n",
       "<text font-family=\"Times,serif\" font-size=\"14.00\" text-anchor=\"middle\" x=\"413\" y=\"-260.8\">output:</text>\n",
       "<polyline fill=\"none\" points=\"440.5,-253 440.5,-299 \" stroke=\"black\"/>\n",
       "<text font-family=\"Times,serif\" font-size=\"14.00\" text-anchor=\"middle\" x=\"492.5\" y=\"-283.8\">(None, 19, 100)</text>\n",
       "<polyline fill=\"none\" points=\"440.5,-276 544.5,-276 \" stroke=\"black\"/>\n",
       "<text font-family=\"Times,serif\" font-size=\"14.00\" text-anchor=\"middle\" x=\"492.5\" y=\"-260.8\">(None, 100)</text>\n",
       "</g>\n",
       "<!-- 140645356841728&#45;&gt;140645356743816 -->\n",
       "<g class=\"edge\" id=\"edge7\"><title>140645356841728-&gt;140645356743816</title>\n",
       "<path d=\"M426.174,-336.593C424.727,-328.118 423.051,-318.297 421.481,-309.104\" fill=\"none\" stroke=\"black\"/>\n",
       "<polygon fill=\"black\" points=\"424.906,-308.364 419.772,-299.096 418.005,-309.542 424.906,-308.364\" stroke=\"black\"/>\n",
       "</g>\n",
       "<!-- 140645356417824 -->\n",
       "<g class=\"node\" id=\"node9\"><title>140645356417824</title>\n",
       "<polygon fill=\"none\" points=\"263,-169 263,-215 509,-215 509,-169 263,-169\" stroke=\"black\"/>\n",
       "<text font-family=\"Times,serif\" font-size=\"14.00\" text-anchor=\"middle\" x=\"314\" y=\"-188.3\">dense_2: Dense</text>\n",
       "<polyline fill=\"none\" points=\"365,-169 365,-215 \" stroke=\"black\"/>\n",
       "<text font-family=\"Times,serif\" font-size=\"14.00\" text-anchor=\"middle\" x=\"392.5\" y=\"-199.8\">input:</text>\n",
       "<polyline fill=\"none\" points=\"365,-192 420,-192 \" stroke=\"black\"/>\n",
       "<text font-family=\"Times,serif\" font-size=\"14.00\" text-anchor=\"middle\" x=\"392.5\" y=\"-176.8\">output:</text>\n",
       "<polyline fill=\"none\" points=\"420,-169 420,-215 \" stroke=\"black\"/>\n",
       "<text font-family=\"Times,serif\" font-size=\"14.00\" text-anchor=\"middle\" x=\"464.5\" y=\"-199.8\">(None, 100)</text>\n",
       "<polyline fill=\"none\" points=\"420,-192 509,-192 \" stroke=\"black\"/>\n",
       "<text font-family=\"Times,serif\" font-size=\"14.00\" text-anchor=\"middle\" x=\"464.5\" y=\"-176.8\">(None, 3380)</text>\n",
       "</g>\n",
       "<!-- 140645356743816&#45;&gt;140645356417824 -->\n",
       "<g class=\"edge\" id=\"edge9\"><title>140645356743816-&gt;140645356417824</title>\n",
       "<path d=\"M407.802,-252.593C404.635,-243.935 400.954,-233.874 397.529,-224.512\" fill=\"none\" stroke=\"black\"/>\n",
       "<polygon fill=\"black\" points=\"400.807,-223.285 394.084,-215.096 394.233,-225.69 400.807,-223.285\" stroke=\"black\"/>\n",
       "</g>\n",
       "<!-- 140645356645064 -->\n",
       "<g class=\"node\" id=\"node10\"><title>140645356645064</title>\n",
       "<polygon fill=\"none\" points=\"38.5,-253 38.5,-299 255.5,-299 255.5,-253 38.5,-253\" stroke=\"black\"/>\n",
       "<text font-family=\"Times,serif\" font-size=\"14.00\" text-anchor=\"middle\" x=\"75\" y=\"-272.3\">Vs: Dense</text>\n",
       "<polyline fill=\"none\" points=\"111.5,-253 111.5,-299 \" stroke=\"black\"/>\n",
       "<text font-family=\"Times,serif\" font-size=\"14.00\" text-anchor=\"middle\" x=\"139\" y=\"-283.8\">input:</text>\n",
       "<polyline fill=\"none\" points=\"111.5,-276 166.5,-276 \" stroke=\"black\"/>\n",
       "<text font-family=\"Times,serif\" font-size=\"14.00\" text-anchor=\"middle\" x=\"139\" y=\"-260.8\">output:</text>\n",
       "<polyline fill=\"none\" points=\"166.5,-253 166.5,-299 \" stroke=\"black\"/>\n",
       "<text font-family=\"Times,serif\" font-size=\"14.00\" text-anchor=\"middle\" x=\"211\" y=\"-283.8\">(None, 40)</text>\n",
       "<polyline fill=\"none\" points=\"166.5,-276 255.5,-276 \" stroke=\"black\"/>\n",
       "<text font-family=\"Times,serif\" font-size=\"14.00\" text-anchor=\"middle\" x=\"211\" y=\"-260.8\">(None, 3380)</text>\n",
       "</g>\n",
       "<!-- 140646254241216&#45;&gt;140645356645064 -->\n",
       "<g class=\"edge\" id=\"edge10\"><title>140646254241216-&gt;140645356645064</title>\n",
       "<path d=\"M127.378,-336.593C130.199,-328.027 133.472,-318.086 136.527,-308.808\" fill=\"none\" stroke=\"black\"/>\n",
       "<polygon fill=\"black\" points=\"139.921,-309.689 139.725,-299.096 133.273,-307.5 139.921,-309.689\" stroke=\"black\"/>\n",
       "</g>\n",
       "<!-- 140645356519096 -->\n",
       "<g class=\"node\" id=\"node11\"><title>140645356519096</title>\n",
       "<polygon fill=\"none\" points=\"139,-85 139,-131 453,-131 453,-85 139,-85\" stroke=\"black\"/>\n",
       "<text font-family=\"Times,serif\" font-size=\"14.00\" text-anchor=\"middle\" x=\"179\" y=\"-104.3\">add_2: Add</text>\n",
       "<polyline fill=\"none\" points=\"219,-85 219,-131 \" stroke=\"black\"/>\n",
       "<text font-family=\"Times,serif\" font-size=\"14.00\" text-anchor=\"middle\" x=\"246.5\" y=\"-115.8\">input:</text>\n",
       "<polyline fill=\"none\" points=\"219,-108 274,-108 \" stroke=\"black\"/>\n",
       "<text font-family=\"Times,serif\" font-size=\"14.00\" text-anchor=\"middle\" x=\"246.5\" y=\"-92.8\">output:</text>\n",
       "<polyline fill=\"none\" points=\"274,-85 274,-131 \" stroke=\"black\"/>\n",
       "<text font-family=\"Times,serif\" font-size=\"14.00\" text-anchor=\"middle\" x=\"363.5\" y=\"-115.8\">[(None, 3380), (None, 3380)]</text>\n",
       "<polyline fill=\"none\" points=\"274,-108 453,-108 \" stroke=\"black\"/>\n",
       "<text font-family=\"Times,serif\" font-size=\"14.00\" text-anchor=\"middle\" x=\"363.5\" y=\"-92.8\">(None, 3380)</text>\n",
       "</g>\n",
       "<!-- 140645356417824&#45;&gt;140645356519096 -->\n",
       "<g class=\"edge\" id=\"edge11\"><title>140645356417824-&gt;140645356519096</title>\n",
       "<path d=\"M361.407,-168.593C351.004,-159.115 338.756,-147.955 327.688,-137.871\" fill=\"none\" stroke=\"black\"/>\n",
       "<polygon fill=\"black\" points=\"330.001,-135.244 320.252,-131.096 325.286,-140.418 330.001,-135.244\" stroke=\"black\"/>\n",
       "</g>\n",
       "<!-- 140645356645064&#45;&gt;140645356519096 -->\n",
       "<g class=\"edge\" id=\"edge12\"><title>140645356645064-&gt;140645356519096</title>\n",
       "<path d=\"M166.786,-252.956C193.169,-223.563 239.956,-171.439 269.403,-138.631\" fill=\"none\" stroke=\"black\"/>\n",
       "<polygon fill=\"black\" points=\"272.057,-140.914 276.132,-131.135 266.848,-136.239 272.057,-140.914\" stroke=\"black\"/>\n",
       "</g>\n",
       "<!-- 140645353344304 -->\n",
       "<g class=\"node\" id=\"node12\"><title>140645353344304</title>\n",
       "<polygon fill=\"none\" points=\"180,-1 180,-47 412,-47 412,-1 180,-1\" stroke=\"black\"/>\n",
       "<text font-family=\"Times,serif\" font-size=\"14.00\" text-anchor=\"middle\" x=\"224\" y=\"-20.3\">y: Activation</text>\n",
       "<polyline fill=\"none\" points=\"268,-1 268,-47 \" stroke=\"black\"/>\n",
       "<text font-family=\"Times,serif\" font-size=\"14.00\" text-anchor=\"middle\" x=\"295.5\" y=\"-31.8\">input:</text>\n",
       "<polyline fill=\"none\" points=\"268,-24 323,-24 \" stroke=\"black\"/>\n",
       "<text font-family=\"Times,serif\" font-size=\"14.00\" text-anchor=\"middle\" x=\"295.5\" y=\"-8.8\">output:</text>\n",
       "<polyline fill=\"none\" points=\"323,-1 323,-47 \" stroke=\"black\"/>\n",
       "<text font-family=\"Times,serif\" font-size=\"14.00\" text-anchor=\"middle\" x=\"367.5\" y=\"-31.8\">(None, 3380)</text>\n",
       "<polyline fill=\"none\" points=\"323,-24 412,-24 \" stroke=\"black\"/>\n",
       "<text font-family=\"Times,serif\" font-size=\"14.00\" text-anchor=\"middle\" x=\"367.5\" y=\"-8.8\">(None, 3380)</text>\n",
       "</g>\n",
       "<!-- 140645356519096&#45;&gt;140645353344304 -->\n",
       "<g class=\"edge\" id=\"edge13\"><title>140645356519096-&gt;140645353344304</title>\n",
       "<path d=\"M296,-84.5931C296,-76.1177 296,-66.2974 296,-57.104\" fill=\"none\" stroke=\"black\"/>\n",
       "<polygon fill=\"black\" points=\"299.5,-57.0958 296,-47.0959 292.5,-57.0959 299.5,-57.0958\" stroke=\"black\"/>\n",
       "</g>\n",
       "</g>\n",
       "</svg>"
      ],
      "text/plain": [
       "<IPython.core.display.SVG object>"
      ]
     },
     "execution_count": 8,
     "metadata": {},
     "output_type": "execute_result"
    }
   ],
   "source": [
    "SVG(model_to_dot(model, show_shapes=True).create(prog='dot', format='svg'))"
   ]
  },
  {
   "cell_type": "code",
   "execution_count": 9,
   "metadata": {
    "collapsed": true
   },
   "outputs": [],
   "source": [
    "model.compile(loss='categorical_crossentropy',\n",
    "              optimizer='adadelta',\n",
    "              metrics=['accuracy'])"
   ]
  },
  {
   "cell_type": "code",
   "execution_count": 10,
   "metadata": {
    "collapsed": true
   },
   "outputs": [],
   "source": [
    "class PrintGeneratedText(Callback):\n",
    "    def __init__(self, index2word):\n",
    "        self.index2word = index2word\n",
    "        super(PrintGeneratedText, self).__init__()\n",
    "        \n",
    "    def on_epoch_end(self, epoch, logs={}):\n",
    "        words = ['bos']\n",
    "        for _ in range(maxlen):\n",
    "            x = sequence.pad_sequences(tokenizer.texts_to_sequences([' '.join(words)]), maxlen=maxlen)\n",
    "            word_id = sample(model.predict(x)[0])\n",
    "            word = self.index2word[word_id]\n",
    "            words.append(word)\n",
    "            if word == 'eos':\n",
    "                break\n",
    "        print(' '.join(words[1:-1]))"
   ]
  },
  {
   "cell_type": "code",
   "execution_count": 11,
   "metadata": {
    "scrolled": true
   },
   "outputs": [
    {
     "name": "stdout",
     "output_type": "stream",
     "text": [
      "sat horse closer ‘you’d about it any not’ why house seen close doesn’t get a an of they’d\n",
      "she dinner who was\n",
      "brown as the were you trials doesn’t said i had he\n",
      "so a the ready i’ve\n",
      "distance alice very long rather pegs of never as high alice\n",
      "the the it the she rabbit that her crowded attending ‘stand\n",
      "the grin straight soldiers sea could the slippery don’t you a time dormouse a now english\n",
      "door next are ’ ‘did me dish is five of turtle ’ of of and\n",
      "of alice began heads i cat it increasing was she ‘you to\n",
      "france who for sheep and rather directions like of itself might\n",
      "’ and having blow mean ’ a lovely\n",
      "queen the hedgehog shutting this it was “i could alice rather to poor and\n",
      "beautiful angrily up the eaten shall ’ she very ‘off doth\n",
      "could gloves ’ said ’ off thought the little eagerly ‘what like\n",
      "‘i ’ that the lobsters to get me half said screaming low was gryphon oh after called very\n",
      "turning angrily did again on said the ‘allow little herself her is\n",
      "my idiotic the behind busily they’re to enough and alice question wish\n",
      "in before had it dry size turned her think ‘and queer so dull\n",
      "the attends remark pattering of what would that’s i’ve in said so\n",
      "great which obliged anxiously of had ‘of violently to ‘i do of\n",
      "here to in in all the ‘only such ‘i itself ‘come nothing very well\n",
      "one were in wrong ’ said the choose up it and over she\n",
      "gravely ‘their in thinking to became of words into one camomile and\n",
      "grown mad the don’t that said with the same\n",
      "going as indeed thought how a window for international had near and get were saying\n",
      "alice find it ’ said a very dreamy ’ and the utf spectacles i were bat\n",
      "before here she follow the not as to do was me use she shaped\n",
      "‘for foot flowers it know very dance ’ said the ever asked down the oop ’\n",
      "me presently your i’ll fifteen it ‘i’m lock don’t ’\n",
      "the queen of asked mabel sitting she\n",
      "non saucepan one that and close i give\n",
      "edge only made ’ you seemed said and\n"
     ]
    },
    {
     "data": {
      "text/plain": [
       "<keras.callbacks.History at 0x7fea7bf91b00>"
      ]
     },
     "execution_count": 11,
     "metadata": {},
     "output_type": "execute_result"
    }
   ],
   "source": [
    "model.fit(xs, ys, batch_size=128,\n",
    "          epochs=32, validation_split=0.2,\n",
    "          callbacks=[PrintGeneratedText(index2word=index2word)],\n",
    "          verbose=0)"
   ]
  },
  {
   "cell_type": "markdown",
   "metadata": {},
   "source": [
    "## Random sampling"
   ]
  },
  {
   "cell_type": "code",
   "execution_count": 12,
   "metadata": {
    "collapsed": true
   },
   "outputs": [],
   "source": [
    "def generate_text(text):\n",
    "    results = text.split()\n",
    "    for _ in range(maxlen):\n",
    "        x = sequence.pad_sequences(tokenizer.texts_to_sequences([' '.join(results)]), maxlen=maxlen)\n",
    "        word_id = sample(model.predict(x)[0])\n",
    "        word = index2word[word_id]\n",
    "        results.append(word)\n",
    "        if word == 'eos':\n",
    "            break\n",
    "    return ' '.join(results[1:-1])"
   ]
  },
  {
   "cell_type": "code",
   "execution_count": 13,
   "metadata": {},
   "outputs": [
    {
     "name": "stdout",
     "output_type": "stream",
     "text": [
      "0 alice five herself listeners not have should tone that ’ she going of\n",
      "1 alice ‘it spoke rush table herself tidy be quite very turtle\n",
      "2 alice thing on all this so to one more such\n",
      "3 alice tell she yet hand ’ as the was anyone ‘if her\n",
      "4 alice said his very never’ again with be changed so it was deal too\n",
      "5 alice then ’ nothing the shoulders ’ she the a cucumber\n",
      "6 alice said alice and gloomily knew him to\n",
      "7 alice as at its interest was use a way for she had the\n",
      "8 alice shut ‘you’re ‘where confusing it not that at even all let\n",
      "9 alice with itself girl a appear in interesting the manage at nothing the left\n",
      "10 alice agree she cake\n",
      "11 alice their look to what uglify ’ said the song mentioned green a reason\n",
      "12 alice but it’s for down in the voice ‘for\n",
      "13 alice cat where kid tray soon that real you every turtle would ‘for ‘call to and injure in\n",
      "14 alice ”’ ’ to the at of on a gryphon of i’m matter to find up\n",
      "15 alice busily ‘boots the were little moral of your she ‘it up a king\n",
      "16 alice rate a door here be the spirited what followed ”’\n",
      "17 alice ’ i finished ‘she’s ground a go of alice’s was her bottom\n",
      "18 alice not’ felt she know again it jury she i was pennyworth was a think\n",
      "19 alice the content was did ‘if\n",
      "20 alice blacking you only went to did for day quite time ’ her\n",
      "21 alice hopeless in the head ’ for she much\n",
      "22 alice certainly ’ she that word added what but ’ alice the was\n",
      "23 alice hit as the or uncivil of wasn’t\n",
      "24 alice there see and it at she ‘and adventures wretched 7\n",
      "25 alice insolence the song ‘if alice and pleased her cat to be\n",
      "26 alice fall than ‘so the bleeds turtle this had then to key\n",
      "27 alice waving anxiously in you’ve it was ‘ and this ’ the have\n",
      "28 alice think on ’ thought the march carried a song low in drawling grey\n",
      "29 alice talking splash there oh you when you fan her thought mabel said once was\n"
     ]
    }
   ],
   "source": [
    "for i in range(30):\n",
    "    print(i, generate_text(text='bos alice'))\n",
    "    "
   ]
  },
  {
   "cell_type": "code",
   "execution_count": 14,
   "metadata": {},
   "outputs": [
    {
     "name": "stdout",
     "output_type": "stream",
     "text": [
      "0 simpleton question sort on a king of wild again i\n",
      "1 suppose with the right ‘then never over the shrinking labelled do in up set\n",
      "2 she think to afraid couldn’t being\n",
      "3 to was and “you off ’ said the argued back in say\n",
      "4 machines ‘i had right some pronounced how with ’ said the at\n",
      "5 the because right very refund” are you’re would\n",
      "6 and your shorter things then time the gryphon sudden the hare\n",
      "7 any ’ the felt such squeeze as ‘because pigs the rude\n",
      "8 ringlets i’d figure chuckled and by he poor came at ‘but the tea of may\n",
      "9 knee and the yourself full again said the think\n",
      "10 rule into the little glass hot question on going lessons ‘if in the were\n",
      "11 it pennyworth the rabbit she read what sensation now she only ‘you’ll to golden distributing playing\n",
      "12 shared not well ’ said a queen of the ravens\n",
      "13 said but she for and air shyly wasn’t will suddenly ’ and air in\n",
      "14 difficult she gravy were ’ said the gryphon ’ she freely give\n",
      "15 size the writing i wrong to her one anything she speak\n",
      "16 ’ i certainly these encouraging without of a bottle\n",
      "17 it here you’re she ‘i writing nothing when she\n",
      "18 old got of had a walrus up only forepaws quadrille to\n",
      "19 ‘tell so at the newby a and way she ordered ’ she alice very be washing ’\n",
      "20 she could seemed he turning you than\n",
      "21 the grin done ’ said alice from\n",
      "22 provisions ’ she hastily ’ said it here be notice demand yer\n",
      "23 thought what staring would ‘it please from and her voice ’ she\n",
      "24 grunted and alice complained i fish so i for ’ she\n",
      "25 crawling derive tone know to it ‘it’s a very now as the dinner\n",
      "26 said the was who away shan’t you fix here not into the beginning ’\n",
      "27 march finished of alice ’ said the hatter turtle this went you you’d wish all\n",
      "28 ‘there’s it explain the caterpillar having at doesn’t very tails\n",
      "29 begin should cake was this and to think and she beau began ’\n"
     ]
    }
   ],
   "source": [
    "for i in range(30):\n",
    "    print(i, generate_text(text='bos'))\n",
    "    "
   ]
  },
  {
   "cell_type": "markdown",
   "metadata": {},
   "source": [
    "## Maximum"
   ]
  },
  {
   "cell_type": "code",
   "execution_count": 15,
   "metadata": {},
   "outputs": [
    {
     "name": "stdout",
     "output_type": "stream",
     "text": [
      "alice ’ said the mock turtle ’ said the\n"
     ]
    }
   ],
   "source": [
    "words = ['bos', 'alice']\n",
    "for _ in range(maxlen):\n",
    "    x = sequence.pad_sequences(tokenizer.texts_to_sequences([' '.join(words)]), maxlen=maxlen)\n",
    "    word_id = np.argmax(model.predict(x)[0])\n",
    "    word = index2word[word_id]\n",
    "    words.append(word)\n",
    "    if word == 'eos':\n",
    "        break\n",
    "print(' '.join(words[1:-1]))"
   ]
  },
  {
   "cell_type": "code",
   "execution_count": 16,
   "metadata": {
    "collapsed": true
   },
   "outputs": [],
   "source": []
  }
 ],
 "metadata": {
  "anaconda-cloud": {},
  "kernelspec": {
   "display_name": "Python 3",
   "language": "python",
   "name": "python3"
  },
  "language_info": {
   "codemirror_mode": {
    "name": "ipython",
    "version": 3
   },
   "file_extension": ".py",
   "mimetype": "text/x-python",
   "name": "python",
   "nbconvert_exporter": "python",
   "pygments_lexer": "ipython3",
   "version": "3.6.2"
  },
  "toc": {
   "toc_cell": false,
   "toc_number_sections": true,
   "toc_threshold": 6,
   "toc_window_display": false
  }
 },
 "nbformat": 4,
 "nbformat_minor": 1
}
